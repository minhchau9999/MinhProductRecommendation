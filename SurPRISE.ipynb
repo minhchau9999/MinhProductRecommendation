{
 "cells": [
  {
   "cell_type": "code",
   "execution_count": 3,
   "metadata": {
    "colab": {
     "base_uri": "https://localhost:8080/"
    },
    "executionInfo": {
     "elapsed": 6847,
     "status": "ok",
     "timestamp": 1743842255833,
     "user": {
      "displayName": "Duy Phạm",
      "userId": "15483364164152409595"
     },
     "user_tz": -420
    },
    "id": "ruZV2ssP3FlS",
    "outputId": "e5db91c9-33fc-44b7-e5a9-b6b42a2f99af"
   },
   "outputs": [],
   "source": [
    "# !pip install surprise"
   ]
  },
  {
   "cell_type": "code",
   "execution_count": 4,
   "metadata": {
    "colab": {
     "base_uri": "https://localhost:8080/"
    },
    "executionInfo": {
     "elapsed": 26832,
     "status": "ok",
     "timestamp": 1743842282667,
     "user": {
      "displayName": "Duy Phạm",
      "userId": "15483364164152409595"
     },
     "user_tz": -420
    },
    "id": "Q5pZkAdJ4R2u",
    "outputId": "6f6723b7-0739-4f6f-de2a-6007ea877e84"
   },
   "outputs": [],
   "source": [
    "# !pip uninstall numpy -y\n",
    "# !pip install numpy==1.26.0"
   ]
  },
  {
   "cell_type": "code",
   "execution_count": 5,
   "metadata": {
    "executionInfo": {
     "elapsed": 1502,
     "status": "ok",
     "timestamp": 1743842284171,
     "user": {
      "displayName": "Duy Phạm",
      "userId": "15483364164152409595"
     },
     "user_tz": -420
    },
    "id": "qmUgnqwN3lU9"
   },
   "outputs": [],
   "source": [
    "import pandas as pd\n",
    "import numpy as np\n",
    "from surprise import *"
   ]
  },
  {
   "cell_type": "markdown",
   "metadata": {
    "id": "eaN4WFxH498P"
   },
   "source": [
    "# Read Data"
   ]
  },
  {
   "cell_type": "code",
   "execution_count": 6,
   "metadata": {
    "colab": {
     "base_uri": "https://localhost:8080/",
     "height": 423
    },
    "executionInfo": {
     "elapsed": 3615,
     "status": "ok",
     "timestamp": 1743842287789,
     "user": {
      "displayName": "Duy Phạm",
      "userId": "15483364164152409595"
     },
     "user_tz": -420
    },
    "id": "Le4sUsuN3-dw",
    "outputId": "9b0b565b-60ac-4407-ee98-8bffa0e9f894"
   },
   "outputs": [
    {
     "data": {
      "text/html": [
       "<div>\n",
       "<style scoped>\n",
       "    .dataframe tbody tr th:only-of-type {\n",
       "        vertical-align: middle;\n",
       "    }\n",
       "\n",
       "    .dataframe tbody tr th {\n",
       "        vertical-align: top;\n",
       "    }\n",
       "\n",
       "    .dataframe thead th {\n",
       "        text-align: right;\n",
       "    }\n",
       "</style>\n",
       "<table border=\"1\" class=\"dataframe\">\n",
       "  <thead>\n",
       "    <tr style=\"text-align: right;\">\n",
       "      <th></th>\n",
       "      <th>product_id</th>\n",
       "      <th>user_id</th>\n",
       "      <th>user</th>\n",
       "      <th>rating</th>\n",
       "    </tr>\n",
       "  </thead>\n",
       "  <tbody>\n",
       "    <tr>\n",
       "      <th>0</th>\n",
       "      <td>190</td>\n",
       "      <td>1</td>\n",
       "      <td>karmakyun2nd</td>\n",
       "      <td>5</td>\n",
       "    </tr>\n",
       "    <tr>\n",
       "      <th>1</th>\n",
       "      <td>190</td>\n",
       "      <td>2</td>\n",
       "      <td>tranquangvinh_vv</td>\n",
       "      <td>5</td>\n",
       "    </tr>\n",
       "    <tr>\n",
       "      <th>2</th>\n",
       "      <td>190</td>\n",
       "      <td>3</td>\n",
       "      <td>nguyenquoctoan2005</td>\n",
       "      <td>5</td>\n",
       "    </tr>\n",
       "    <tr>\n",
       "      <th>3</th>\n",
       "      <td>190</td>\n",
       "      <td>4</td>\n",
       "      <td>nguyenthuyhavi</td>\n",
       "      <td>5</td>\n",
       "    </tr>\n",
       "    <tr>\n",
       "      <th>4</th>\n",
       "      <td>190</td>\n",
       "      <td>5</td>\n",
       "      <td>luonganh5595</td>\n",
       "      <td>5</td>\n",
       "    </tr>\n",
       "    <tr>\n",
       "      <th>...</th>\n",
       "      <td>...</td>\n",
       "      <td>...</td>\n",
       "      <td>...</td>\n",
       "      <td>...</td>\n",
       "    </tr>\n",
       "    <tr>\n",
       "      <th>1024477</th>\n",
       "      <td>171107</td>\n",
       "      <td>378659</td>\n",
       "      <td>phantom061212</td>\n",
       "      <td>4</td>\n",
       "    </tr>\n",
       "    <tr>\n",
       "      <th>1024478</th>\n",
       "      <td>171107</td>\n",
       "      <td>225341</td>\n",
       "      <td>donggiang_94</td>\n",
       "      <td>4</td>\n",
       "    </tr>\n",
       "    <tr>\n",
       "      <th>1024479</th>\n",
       "      <td>171107</td>\n",
       "      <td>650634</td>\n",
       "      <td>ethanhunt94</td>\n",
       "      <td>3</td>\n",
       "    </tr>\n",
       "    <tr>\n",
       "      <th>1024480</th>\n",
       "      <td>171107</td>\n",
       "      <td>650635</td>\n",
       "      <td>nguyendiu.3.3.95</td>\n",
       "      <td>2</td>\n",
       "    </tr>\n",
       "    <tr>\n",
       "      <th>1024481</th>\n",
       "      <td>171107</td>\n",
       "      <td>650636</td>\n",
       "      <td>huynhduc312</td>\n",
       "      <td>1</td>\n",
       "    </tr>\n",
       "  </tbody>\n",
       "</table>\n",
       "<p>1024482 rows × 4 columns</p>\n",
       "</div>"
      ],
      "text/plain": [
       "         product_id  user_id                user  rating\n",
       "0               190        1        karmakyun2nd       5\n",
       "1               190        2    tranquangvinh_vv       5\n",
       "2               190        3  nguyenquoctoan2005       5\n",
       "3               190        4      nguyenthuyhavi       5\n",
       "4               190        5        luonganh5595       5\n",
       "...             ...      ...                 ...     ...\n",
       "1024477      171107   378659       phantom061212       4\n",
       "1024478      171107   225341        donggiang_94       4\n",
       "1024479      171107   650634         ethanhunt94       3\n",
       "1024480      171107   650635    nguyendiu.3.3.95       2\n",
       "1024481      171107   650636         huynhduc312       1\n",
       "\n",
       "[1024482 rows x 4 columns]"
      ]
     },
     "execution_count": 6,
     "metadata": {},
     "output_type": "execute_result"
    }
   ],
   "source": [
    "df = pd.read_csv(\"./Products_ThoiTrangNam_rating_raw.csv\",sep='\\t')\n",
    "df"
   ]
  },
  {
   "cell_type": "code",
   "execution_count": 7,
   "metadata": {},
   "outputs": [
    {
     "data": {
      "text/html": [
       "<div>\n",
       "<style scoped>\n",
       "    .dataframe tbody tr th:only-of-type {\n",
       "        vertical-align: middle;\n",
       "    }\n",
       "\n",
       "    .dataframe tbody tr th {\n",
       "        vertical-align: top;\n",
       "    }\n",
       "\n",
       "    .dataframe thead th {\n",
       "        text-align: right;\n",
       "    }\n",
       "</style>\n",
       "<table border=\"1\" class=\"dataframe\">\n",
       "  <thead>\n",
       "    <tr style=\"text-align: right;\">\n",
       "      <th></th>\n",
       "      <th>product_id</th>\n",
       "      <th>user_id</th>\n",
       "      <th>user</th>\n",
       "      <th>rating</th>\n",
       "    </tr>\n",
       "  </thead>\n",
       "  <tbody>\n",
       "    <tr>\n",
       "      <th>0</th>\n",
       "      <td>190</td>\n",
       "      <td>1</td>\n",
       "      <td>karmakyun2nd</td>\n",
       "      <td>5</td>\n",
       "    </tr>\n",
       "    <tr>\n",
       "      <th>1</th>\n",
       "      <td>190</td>\n",
       "      <td>2</td>\n",
       "      <td>tranquangvinh_vv</td>\n",
       "      <td>5</td>\n",
       "    </tr>\n",
       "    <tr>\n",
       "      <th>2</th>\n",
       "      <td>190</td>\n",
       "      <td>3</td>\n",
       "      <td>nguyenquoctoan2005</td>\n",
       "      <td>5</td>\n",
       "    </tr>\n",
       "    <tr>\n",
       "      <th>3</th>\n",
       "      <td>190</td>\n",
       "      <td>4</td>\n",
       "      <td>nguyenthuyhavi</td>\n",
       "      <td>5</td>\n",
       "    </tr>\n",
       "    <tr>\n",
       "      <th>4</th>\n",
       "      <td>190</td>\n",
       "      <td>5</td>\n",
       "      <td>luonganh5595</td>\n",
       "      <td>5</td>\n",
       "    </tr>\n",
       "  </tbody>\n",
       "</table>\n",
       "</div>"
      ],
      "text/plain": [
       "   product_id  user_id                user  rating\n",
       "0         190        1        karmakyun2nd       5\n",
       "1         190        2    tranquangvinh_vv       5\n",
       "2         190        3  nguyenquoctoan2005       5\n",
       "3         190        4      nguyenthuyhavi       5\n",
       "4         190        5        luonganh5595       5"
      ]
     },
     "execution_count": 7,
     "metadata": {},
     "output_type": "execute_result"
    }
   ],
   "source": [
    "df.head()"
   ]
  },
  {
   "cell_type": "markdown",
   "metadata": {
    "id": "hwBHiRLG5Vcx"
   },
   "source": [
    "# Load data for surPrise"
   ]
  },
  {
   "cell_type": "code",
   "execution_count": 8,
   "metadata": {
    "executionInfo": {
     "elapsed": 2562,
     "status": "ok",
     "timestamp": 1743842400992,
     "user": {
      "displayName": "Duy Phạm",
      "userId": "15483364164152409595"
     },
     "user_tz": -420
    },
    "id": "CqIA9pbq5ZpL"
   },
   "outputs": [],
   "source": [
    "reader = Reader(rating_scale=(df.rating.min(), df.rating.max()))\n",
    "\n",
    "data = Dataset.load_from_df(\n",
    "    df[['user_id', 'product_id', 'rating']],\n",
    "    reader\n",
    ")"
   ]
  },
  {
   "cell_type": "markdown",
   "metadata": {
    "id": "14aogsyMGv42"
   },
   "source": [
    "**Split Data**"
   ]
  },
  {
   "cell_type": "code",
   "execution_count": 9,
   "metadata": {
    "executionInfo": {
     "elapsed": 16410,
     "status": "ok",
     "timestamp": 1743842430585,
     "user": {
      "displayName": "Duy Phạm",
      "userId": "15483364164152409595"
     },
     "user_tz": -420
    },
    "id": "QdczTgijGyDW"
   },
   "outputs": [],
   "source": [
    "from surprise.model_selection import train_test_split\n",
    "trainset, testset = train_test_split(data, test_size=0.25)"
   ]
  },
  {
   "cell_type": "markdown",
   "metadata": {
    "id": "P1jVIsDD6KU6"
   },
   "source": [
    "# Build Model"
   ]
  },
  {
   "cell_type": "code",
   "execution_count": 10,
   "metadata": {
    "colab": {
     "base_uri": "https://localhost:8080/"
    },
    "executionInfo": {
     "elapsed": 35526,
     "status": "ok",
     "timestamp": 1743842805621,
     "user": {
      "displayName": "Duy Phạm",
      "userId": "15483364164152409595"
     },
     "user_tz": -420
    },
    "id": "DO3cXED9867T",
    "outputId": "e5a55797-5e9d-42da-fc0f-2dd69aeddc9a"
   },
   "outputs": [
    {
     "data": {
      "text/plain": [
       "<surprise.prediction_algorithms.matrix_factorization.SVD at 0x14020e158d0>"
      ]
     },
     "execution_count": 10,
     "metadata": {},
     "output_type": "execute_result"
    }
   ],
   "source": [
    "algo = SVD()\n",
    "algo.fit(trainset)"
   ]
  },
  {
   "cell_type": "markdown",
   "metadata": {
    "id": "AsaPA8jqIat-"
   },
   "source": [
    "# Eval on test set"
   ]
  },
  {
   "cell_type": "code",
   "execution_count": 11,
   "metadata": {
    "executionInfo": {
     "elapsed": 6130,
     "status": "ok",
     "timestamp": 1743842844827,
     "user": {
      "displayName": "Duy Phạm",
      "userId": "15483364164152409595"
     },
     "user_tz": -420
    },
    "id": "UnQfw4Sw89sg"
   },
   "outputs": [],
   "source": [
    "predictions = algo.test(testset)"
   ]
  },
  {
   "cell_type": "code",
   "execution_count": 12,
   "metadata": {
    "colab": {
     "base_uri": "https://localhost:8080/"
    },
    "executionInfo": {
     "elapsed": 524,
     "status": "ok",
     "timestamp": 1743842898909,
     "user": {
      "displayName": "Duy Phạm",
      "userId": "15483364164152409595"
     },
     "user_tz": -420
    },
    "id": "1fkPvEeBIg9V",
    "outputId": "ae20d8db-a84a-40fb-8834-ebcf3c246f42"
   },
   "outputs": [
    {
     "name": "stdout",
     "output_type": "stream",
     "text": [
      "RMSE: 0.8805\n",
      "RMSE on test_set:  0.8804797851665349\n"
     ]
    }
   ],
   "source": [
    "from surprise import accuracy\n",
    "print('RMSE on test_set: ',accuracy.rmse(predictions))"
   ]
  },
  {
   "cell_type": "markdown",
   "metadata": {
    "id": "JhUEmKhsI0Au"
   },
   "source": [
    "# Predict for specific user"
   ]
  },
  {
   "cell_type": "code",
   "execution_count": 13,
   "metadata": {
    "executionInfo": {
     "elapsed": 3,
     "status": "ok",
     "timestamp": 1743843558014,
     "user": {
      "displayName": "Duy Phạm",
      "userId": "15483364164152409595"
     },
     "user_tz": -420
    },
    "id": "8i2BmEAYJcXW"
   },
   "outputs": [],
   "source": [
    "user_id = 20"
   ]
  },
  {
   "cell_type": "code",
   "execution_count": 14,
   "metadata": {
    "colab": {
     "base_uri": "https://localhost:8080/",
     "height": 423
    },
    "executionInfo": {
     "elapsed": 46,
     "status": "ok",
     "timestamp": 1743843558460,
     "user": {
      "displayName": "Duy Phạm",
      "userId": "15483364164152409595"
     },
     "user_tz": -420
    },
    "id": "GCz3G9PUJgJK",
    "outputId": "c36fce16-20ad-4df7-c95a-5222b4901b29"
   },
   "outputs": [
    {
     "data": {
      "text/html": [
       "<div>\n",
       "<style scoped>\n",
       "    .dataframe tbody tr th:only-of-type {\n",
       "        vertical-align: middle;\n",
       "    }\n",
       "\n",
       "    .dataframe tbody tr th {\n",
       "        vertical-align: top;\n",
       "    }\n",
       "\n",
       "    .dataframe thead th {\n",
       "        text-align: right;\n",
       "    }\n",
       "</style>\n",
       "<table border=\"1\" class=\"dataframe\">\n",
       "  <thead>\n",
       "    <tr style=\"text-align: right;\">\n",
       "      <th></th>\n",
       "      <th>product_id</th>\n",
       "    </tr>\n",
       "  </thead>\n",
       "  <tbody>\n",
       "    <tr>\n",
       "      <th>0</th>\n",
       "      <td>190</td>\n",
       "    </tr>\n",
       "    <tr>\n",
       "      <th>1</th>\n",
       "      <td>191</td>\n",
       "    </tr>\n",
       "    <tr>\n",
       "      <th>2</th>\n",
       "      <td>192</td>\n",
       "    </tr>\n",
       "    <tr>\n",
       "      <th>3</th>\n",
       "      <td>193</td>\n",
       "    </tr>\n",
       "    <tr>\n",
       "      <th>4</th>\n",
       "      <td>194</td>\n",
       "    </tr>\n",
       "    <tr>\n",
       "      <th>...</th>\n",
       "      <td>...</td>\n",
       "    </tr>\n",
       "    <tr>\n",
       "      <th>31262</th>\n",
       "      <td>171103</td>\n",
       "    </tr>\n",
       "    <tr>\n",
       "      <th>31263</th>\n",
       "      <td>171104</td>\n",
       "    </tr>\n",
       "    <tr>\n",
       "      <th>31264</th>\n",
       "      <td>171105</td>\n",
       "    </tr>\n",
       "    <tr>\n",
       "      <th>31265</th>\n",
       "      <td>171106</td>\n",
       "    </tr>\n",
       "    <tr>\n",
       "      <th>31266</th>\n",
       "      <td>171107</td>\n",
       "    </tr>\n",
       "  </tbody>\n",
       "</table>\n",
       "<p>31267 rows × 1 columns</p>\n",
       "</div>"
      ],
      "text/plain": [
       "       product_id\n",
       "0             190\n",
       "1             191\n",
       "2             192\n",
       "3             193\n",
       "4             194\n",
       "...           ...\n",
       "31262      171103\n",
       "31263      171104\n",
       "31264      171105\n",
       "31265      171106\n",
       "31266      171107\n",
       "\n",
       "[31267 rows x 1 columns]"
      ]
     },
     "execution_count": 14,
     "metadata": {},
     "output_type": "execute_result"
    }
   ],
   "source": [
    "product_id_score = df[['product_id']].drop_duplicates().reset_index(drop=True)\n",
    "product_id_score"
   ]
  },
  {
   "cell_type": "code",
   "execution_count": 15,
   "metadata": {
    "colab": {
     "base_uri": "https://localhost:8080/",
     "height": 206
    },
    "executionInfo": {
     "elapsed": 247,
     "status": "ok",
     "timestamp": 1743843559893,
     "user": {
      "displayName": "Duy Phạm",
      "userId": "15483364164152409595"
     },
     "user_tz": -420
    },
    "id": "Ij1SVmydKKuS",
    "outputId": "2c684bc9-6bdd-4217-d4e9-c6390cdaadf3"
   },
   "outputs": [
    {
     "data": {
      "text/html": [
       "<div>\n",
       "<style scoped>\n",
       "    .dataframe tbody tr th:only-of-type {\n",
       "        vertical-align: middle;\n",
       "    }\n",
       "\n",
       "    .dataframe tbody tr th {\n",
       "        vertical-align: top;\n",
       "    }\n",
       "\n",
       "    .dataframe thead th {\n",
       "        text-align: right;\n",
       "    }\n",
       "</style>\n",
       "<table border=\"1\" class=\"dataframe\">\n",
       "  <thead>\n",
       "    <tr style=\"text-align: right;\">\n",
       "      <th></th>\n",
       "      <th>product_id</th>\n",
       "      <th>Score_Prediction</th>\n",
       "    </tr>\n",
       "  </thead>\n",
       "  <tbody>\n",
       "    <tr>\n",
       "      <th>7574</th>\n",
       "      <td>23185</td>\n",
       "      <td>5.0</td>\n",
       "    </tr>\n",
       "    <tr>\n",
       "      <th>11992</th>\n",
       "      <td>23629</td>\n",
       "      <td>5.0</td>\n",
       "    </tr>\n",
       "    <tr>\n",
       "      <th>21937</th>\n",
       "      <td>13727</td>\n",
       "      <td>5.0</td>\n",
       "    </tr>\n",
       "    <tr>\n",
       "      <th>27269</th>\n",
       "      <td>171739</td>\n",
       "      <td>5.0</td>\n",
       "    </tr>\n",
       "    <tr>\n",
       "      <th>14372</th>\n",
       "      <td>251458</td>\n",
       "      <td>5.0</td>\n",
       "    </tr>\n",
       "  </tbody>\n",
       "</table>\n",
       "</div>"
      ],
      "text/plain": [
       "       product_id  Score_Prediction\n",
       "7574        23185               5.0\n",
       "11992       23629               5.0\n",
       "21937       13727               5.0\n",
       "27269      171739               5.0\n",
       "14372      251458               5.0"
      ]
     },
     "execution_count": 15,
     "metadata": {},
     "output_type": "execute_result"
    }
   ],
   "source": [
    "product_id_score['Score_Prediction']= product_id_score['product_id'].apply(lambda x: algo.predict(user_id, x).est)\n",
    "product_id_score = product_id_score.sort_values(by=['Score_Prediction'], ascending=False).drop_duplicates()\n",
    "product_id_score.head()"
   ]
  },
  {
   "cell_type": "code",
   "execution_count": 16,
   "metadata": {},
   "outputs": [],
   "source": [
    "import pickle\n",
    "\n",
    "# Save the trained model to a file\n",
    "model_filename = 'surprise_svd_model.pkl'\n",
    "with open(model_filename, 'wb') as file:\n",
    "    pickle.dump(algo, file)"
   ]
  },
  {
   "cell_type": "code",
   "execution_count": 26,
   "metadata": {},
   "outputs": [],
   "source": [
    "#dump also the df\n",
    "with open('user_rating_df.pkl', 'wb') as file:\n",
    "    pickle.dump(df, file)"
   ]
  },
  {
   "cell_type": "code",
   "execution_count": 17,
   "metadata": {},
   "outputs": [],
   "source": [
    "from importlib import reload\n",
    "import utils\n",
    "\n",
    "# Reload the utils module to get the latest changes\n",
    "# by this I don't need to restart the kernel everytime I modify the function in Utils\n",
    "reload(utils)\n",
    "\n",
    "# Now try your function call again\n",
    "from utils import get_recommendations_surprise"
   ]
  },
  {
   "cell_type": "code",
   "execution_count": 24,
   "metadata": {},
   "outputs": [],
   "source": [
    "recommendations = get_recommendations_surprise(df=product_id_score,surprise=algo,\n",
    "                user_id=200,\n",
    "                nums=1000\n",
    "                )\n"
   ]
  },
  {
   "cell_type": "code",
   "execution_count": 25,
   "metadata": {},
   "outputs": [
    {
     "data": {
      "text/html": [
       "<div>\n",
       "<style scoped>\n",
       "    .dataframe tbody tr th:only-of-type {\n",
       "        vertical-align: middle;\n",
       "    }\n",
       "\n",
       "    .dataframe tbody tr th {\n",
       "        vertical-align: top;\n",
       "    }\n",
       "\n",
       "    .dataframe thead th {\n",
       "        text-align: right;\n",
       "    }\n",
       "</style>\n",
       "<table border=\"1\" class=\"dataframe\">\n",
       "  <thead>\n",
       "    <tr style=\"text-align: right;\">\n",
       "      <th></th>\n",
       "      <th>product_id</th>\n",
       "      <th>Score_Prediction</th>\n",
       "    </tr>\n",
       "  </thead>\n",
       "  <tbody>\n",
       "    <tr>\n",
       "      <th>27569</th>\n",
       "      <td>172050</td>\n",
       "      <td>5.000000</td>\n",
       "    </tr>\n",
       "    <tr>\n",
       "      <th>2485</th>\n",
       "      <td>211058</td>\n",
       "      <td>5.000000</td>\n",
       "    </tr>\n",
       "    <tr>\n",
       "      <th>17190</th>\n",
       "      <td>112548</td>\n",
       "      <td>5.000000</td>\n",
       "    </tr>\n",
       "    <tr>\n",
       "      <th>29062</th>\n",
       "      <td>173386</td>\n",
       "      <td>5.000000</td>\n",
       "    </tr>\n",
       "    <tr>\n",
       "      <th>24916</th>\n",
       "      <td>14950</td>\n",
       "      <td>5.000000</td>\n",
       "    </tr>\n",
       "    <tr>\n",
       "      <th>...</th>\n",
       "      <td>...</td>\n",
       "      <td>...</td>\n",
       "    </tr>\n",
       "    <tr>\n",
       "      <th>3392</th>\n",
       "      <td>21590</td>\n",
       "      <td>4.877353</td>\n",
       "    </tr>\n",
       "    <tr>\n",
       "      <th>21604</th>\n",
       "      <td>13387</td>\n",
       "      <td>4.876982</td>\n",
       "    </tr>\n",
       "    <tr>\n",
       "      <th>24987</th>\n",
       "      <td>141021</td>\n",
       "      <td>4.876803</td>\n",
       "    </tr>\n",
       "    <tr>\n",
       "      <th>17400</th>\n",
       "      <td>11438</td>\n",
       "      <td>4.876757</td>\n",
       "    </tr>\n",
       "    <tr>\n",
       "      <th>11984</th>\n",
       "      <td>23621</td>\n",
       "      <td>4.876629</td>\n",
       "    </tr>\n",
       "  </tbody>\n",
       "</table>\n",
       "<p>1000 rows × 2 columns</p>\n",
       "</div>"
      ],
      "text/plain": [
       "       product_id  Score_Prediction\n",
       "27569      172050          5.000000\n",
       "2485       211058          5.000000\n",
       "17190      112548          5.000000\n",
       "29062      173386          5.000000\n",
       "24916       14950          5.000000\n",
       "...           ...               ...\n",
       "3392        21590          4.877353\n",
       "21604       13387          4.876982\n",
       "24987      141021          4.876803\n",
       "17400       11438          4.876757\n",
       "11984       23621          4.876629\n",
       "\n",
       "[1000 rows x 2 columns]"
      ]
     },
     "execution_count": 25,
     "metadata": {},
     "output_type": "execute_result"
    }
   ],
   "source": [
    "recommendations"
   ]
  }
 ],
 "metadata": {
  "colab": {
   "authorship_tag": "ABX9TyOUCnshFQ18lgFrWePwiQtO",
   "mount_file_id": "1bkQiCdwh1o_QRPIKNbOjoxqkUGsXCgPW",
   "provenance": []
  },
  "kernelspec": {
   "display_name": "Python 3",
   "name": "python3"
  },
  "language_info": {
   "codemirror_mode": {
    "name": "ipython",
    "version": 3
   },
   "file_extension": ".py",
   "mimetype": "text/x-python",
   "name": "python",
   "nbconvert_exporter": "python",
   "pygments_lexer": "ipython3",
   "version": "3.11.9"
  }
 },
 "nbformat": 4,
 "nbformat_minor": 0
}
